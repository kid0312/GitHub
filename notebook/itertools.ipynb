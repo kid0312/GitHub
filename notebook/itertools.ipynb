{
 "cells": [
  {
   "cell_type": "markdown",
   "metadata": {},
   "source": [
    "### 複数要素を持つリストからひとつずつ取り出す\n",
    "https://qiita.com/tomotaka_ito/items/5a545423eac654a5b6f5<br>\n",
    "https://python.civic-apps.com/itertools-combinations/"
   ]
  },
  {
   "cell_type": "code",
   "execution_count": 7,
   "metadata": {
    "collapsed": true
   },
   "outputs": [],
   "source": [
    "import itertools\n",
    "\n",
    "test_a = ['a1','a2','a3','a4','a5']\n",
    "test_b = ['b1','b2','b3','b4']\n",
    "test_c = ['c1','c2']\n",
    "\n",
    "for a,b,c in itertools.product(test_a,test_b,test_c):\n",
    "    test = [a,b,c]\n",
    "    \n",
    "test2 = list(itertools.product(test_a,test_b,test_c))"
   ]
  },
  {
   "cell_type": "code",
   "execution_count": 8,
   "metadata": {},
   "outputs": [
    {
     "name": "stdout",
     "output_type": "stream",
     "text": [
      "[('a1', 'b1', 'c1'), ('a1', 'b1', 'c2'), ('a1', 'b2', 'c1'), ('a1', 'b2', 'c2'), ('a1', 'b3', 'c1'), ('a1', 'b3', 'c2'), ('a1', 'b4', 'c1'), ('a1', 'b4', 'c2'), ('a2', 'b1', 'c1'), ('a2', 'b1', 'c2'), ('a2', 'b2', 'c1'), ('a2', 'b2', 'c2'), ('a2', 'b3', 'c1'), ('a2', 'b3', 'c2'), ('a2', 'b4', 'c1'), ('a2', 'b4', 'c2'), ('a3', 'b1', 'c1'), ('a3', 'b1', 'c2'), ('a3', 'b2', 'c1'), ('a3', 'b2', 'c2'), ('a3', 'b3', 'c1'), ('a3', 'b3', 'c2'), ('a3', 'b4', 'c1'), ('a3', 'b4', 'c2'), ('a4', 'b1', 'c1'), ('a4', 'b1', 'c2'), ('a4', 'b2', 'c1'), ('a4', 'b2', 'c2'), ('a4', 'b3', 'c1'), ('a4', 'b3', 'c2'), ('a4', 'b4', 'c1'), ('a4', 'b4', 'c2'), ('a5', 'b1', 'c1'), ('a5', 'b1', 'c2'), ('a5', 'b2', 'c1'), ('a5', 'b2', 'c2'), ('a5', 'b3', 'c1'), ('a5', 'b3', 'c2'), ('a5', 'b4', 'c1'), ('a5', 'b4', 'c2')]\n"
     ]
    }
   ],
   "source": [
    "print(test2)"
   ]
  },
  {
   "cell_type": "code",
   "execution_count": 11,
   "metadata": {},
   "outputs": [
    {
     "data": {
      "text/plain": [
       "'b1'"
      ]
     },
     "execution_count": 11,
     "metadata": {},
     "output_type": "execute_result"
    }
   ],
   "source": [
    "test2[0][1]"
   ]
  }
 ],
 "metadata": {
  "kernelspec": {
   "display_name": "Python 3",
   "language": "python",
   "name": "python3"
  },
  "language_info": {
   "codemirror_mode": {
    "name": "ipython",
    "version": 3
   },
   "file_extension": ".py",
   "mimetype": "text/x-python",
   "name": "python",
   "nbconvert_exporter": "python",
   "pygments_lexer": "ipython3",
   "version": "3.6.2"
  }
 },
 "nbformat": 4,
 "nbformat_minor": 2
}
