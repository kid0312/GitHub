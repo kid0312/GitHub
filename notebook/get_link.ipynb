{
 "cells": [
  {
   "cell_type": "markdown",
   "metadata": {},
   "source": [
    "### BeautifulSoupを使って、webページから欲しいリンクを取得\n",
    "\n",
    "あるurlの中にあるリンクを一覧で取得して、その中から欲しいリンクを検索する<br>\n",
    "例:goesのある月のデータの中から、'g15_xrs'が含まれるurlを検索して取得<br><br>\n",
    "BeautifulSoupの使い方 https://qiita.com/itkr/items/513318a9b5b92bd56185<br>\n",
    "urllib on python3 https://minus9d.hatenablog.com/entry/2015/07/07/225304<br>\n",
    "htmlタグ http://www.htmq.com/html/indexm.shtml<br>\n",
    "hrefの抽出 https://code-examples.net/ja/q/58bdc3<br>"
   ]
  },
  {
   "cell_type": "code",
   "execution_count": 2,
   "metadata": {
    "collapsed": true
   },
   "outputs": [],
   "source": [
    "import urllib.request\n",
    "from bs4 import BeautifulSoup\n",
    "\n",
    "url = 'https://satdat.ngdc.noaa.gov/sem/goes/data/new_avg/2011/01/goes15/csv/'\n",
    "html = urllib.request.urlopen(url)\n",
    "\n",
    "soup = BeautifulSoup(html,'lxml')"
   ]
  },
  {
   "cell_type": "code",
   "execution_count": 3,
   "metadata": {},
   "outputs": [],
   "source": [
    "link = []\n",
    "for a in soup.find_all('a',href=True):\n",
    "    link.append(a['href'])"
   ]
  },
  {
   "cell_type": "code",
   "execution_count": 4,
   "metadata": {},
   "outputs": [
    {
     "data": {
      "text/plain": [
       "['https://www.ngdc.noaa.gov/stp/include/stp_swtopnav.html?breadcrumb=space',\n",
       " '?C=N;O=D',\n",
       " '?C=M;O=A',\n",
       " '?C=S;O=A',\n",
       " '/sem/goes/data/new_avg/2011/01/goes15/',\n",
       " 'g15_epead_a16ew_1m_20110101_20110131.csv',\n",
       " 'g15_epead_a16ew_5m_20110101_20110131.csv',\n",
       " 'g15_epead_cpflux_5m_20110101_20110131.csv',\n",
       " 'g15_epead_e13ew_1m_20110101_20110131.csv',\n",
       " 'g15_epead_e13ew_1m_20110101_20110131_science_v1.0.0.csv',\n",
       " 'g15_epead_e13ew_5m_20110101_20110131.csv',\n",
       " 'g15_epead_orientation_flag_1m_20110101_20110131_v1.0.0.csv',\n",
       " 'g15_epead_p17ew_1m_20110101_20110131.csv',\n",
       " 'g15_epead_p17ew_5m_20110101_20110131.csv',\n",
       " 'g15_eps_hskp_5m_20110101_20110131.csv',\n",
       " 'g15_hepad_ap_1m_20110101_20110131.csv',\n",
       " 'g15_hepad_ap_5m_20110101_20110131.csv',\n",
       " 'g15_hepad_s15_1m_20110101_20110131.csv',\n",
       " 'g15_hepad_s15_5m_20110101_20110131.csv',\n",
       " 'g15_maged_19me15_1m_20110101_20110131.csv',\n",
       " 'g15_maged_19me15_5m_20110101_20110131.csv',\n",
       " 'g15_magneto_1m_20110101_20110131.csv',\n",
       " 'g15_magpd_19mp15_1m_20110101_20110131.csv',\n",
       " 'g15_pitch_angles_1m_20110101_20110131.csv',\n",
       " 'g15_xrs_1m_20110101_20110131.csv',\n",
       " 'https://www.ngdc.noaa.gov/ngdc.html',\n",
       " 'https://www.ngdc.noaa.gov/ngdcinfo/privacy.html',\n",
       " 'mailto:ncei.info@noaa.gov']"
      ]
     },
     "execution_count": 4,
     "metadata": {},
     "output_type": "execute_result"
    }
   ],
   "source": [
    "link"
   ]
  },
  {
   "cell_type": "code",
   "execution_count": 19,
   "metadata": {
    "scrolled": true
   },
   "outputs": [
    {
     "name": "stdout",
     "output_type": "stream",
     "text": [
      "https://satdat.ngdc.noaa.gov/sem/goes/data/new_avg/2011/01/goes15/csv/g15_xrs_1m_20110101_20110131.csv\n"
     ]
    }
   ],
   "source": [
    "for li in link:\n",
    "    if 'g15_xrs' in li:\n",
    "        result = li\n",
    "\n",
    "result_url = url+result\n",
    "print(result_url)"
   ]
  }
 ],
 "metadata": {
  "kernelspec": {
   "display_name": "Python 3",
   "language": "python",
   "name": "python3"
  },
  "language_info": {
   "codemirror_mode": {
    "name": "ipython",
    "version": 3
   },
   "file_extension": ".py",
   "mimetype": "text/x-python",
   "name": "python",
   "nbconvert_exporter": "python",
   "pygments_lexer": "ipython3",
   "version": "3.6.2"
  }
 },
 "nbformat": 4,
 "nbformat_minor": 2
}
